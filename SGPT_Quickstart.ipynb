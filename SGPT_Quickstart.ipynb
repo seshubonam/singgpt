{
  "nbformat": 4,
  "nbformat_minor": 0,
  "metadata": {
    "colab": {
      "provenance": []
    },
    "kernelspec": {
      "name": "python3",
      "display_name": "Python 3"
    },
    "language_info": {
      "name": "python"
    }
  },
  "cells": [
    {
      "cell_type": "markdown",
      "source": [
        "# Introduction"
      ],
      "metadata": {
        "id": "RcdvLrov-ZYA"
      }
    },
    {
      "cell_type": "markdown",
      "source": [
        "This notebook shows you to automate applications using x11 server."
      ],
      "metadata": {
        "id": "zx1W1Om3-dB6"
      }
    },
    {
      "cell_type": "markdown",
      "source": [
        "# Libs packages"
      ],
      "metadata": {
        "id": "yb1RcG2D_iZX"
      }
    },
    {
      "cell_type": "code",
      "execution_count": null,
      "metadata": {
        "id": "_xLb97iw-Tjm"
      },
      "outputs": [],
      "source": [
        "!pip install python-xlib\n",
        "!pip install multiprocessing\n",
        "# !pip install xvfbwrapper\n",
        "!pip install pyvirtualdisplay\n",
        "!pip install pyperclip\n",
        "\n",
        "\n",
        "!sudo apt-get install xvfb xorg xserver-xorg scrot imagemagick x11-utils xdotool\n",
        "\n",
        "!pip install paddleocr paddlepaddle"
      ]
    },
    {
      "cell_type": "code",
      "source": [
        "from IPython.display import HTML, display\n",
        "\n",
        "def set_css():\n",
        "  display(HTML('''\n",
        "  <style>\n",
        "    pre {\n",
        "        white-space: pre-wrap;\n",
        "    }\n",
        "  </style>\n",
        "  '''))\n",
        "get_ipython().events.register('pre_run_cell', set_css)"
      ],
      "metadata": {
        "id": "x1PEPy2b-b8b"
      },
      "execution_count": null,
      "outputs": []
    },
    {
      "cell_type": "markdown",
      "metadata": {
        "id": "b8qAkG4_jBbr"
      },
      "source": [
        "# Start xvfb display"
      ]
    },
    {
      "cell_type": "code",
      "execution_count": null,
      "metadata": {
        "colab": {
          "base_uri": "https://localhost:8080/"
        },
        "id": "5398I5iJf8h6",
        "outputId": "b460fbfe-ce81-4939-ebef-7c2ea8dbf2ff"
      },
      "outputs": [
        {
          "output_type": "execute_result",
          "data": {
            "text/plain": [
              "<pyvirtualdisplay.display.Display at 0x7fc32f1562e0>"
            ]
          },
          "metadata": {},
          "execution_count": 33
        }
      ],
      "source": [
        "from pyvirtualdisplay import Display\n",
        "disp = Display(size=(1536, 864), color_depth=24)\n",
        "disp.start()"
      ]
    },
    {
      "cell_type": "code",
      "execution_count": null,
      "metadata": {
        "colab": {
          "base_uri": "https://localhost:8080/"
        },
        "id": "MA9QrMWBaUJV",
        "outputId": "414ca6fc-c367-4b38-b288-19f3c2cf211d"
      },
      "outputs": [
        {
          "output_type": "stream",
          "name": "stdout",
          "text": [
            ":0\n"
          ]
        }
      ],
      "source": [
        "import os \n",
        "print(os.environ['DISPLAY'])"
      ]
    },
    {
      "cell_type": "markdown",
      "source": [
        "# Clone SingularGPT"
      ],
      "metadata": {
        "id": "x0w0pG1nAC7D"
      }
    },
    {
      "cell_type": "code",
      "source": [
        "!git clone https://github.com/abhiprojectz/SingularGPT.git\n",
        "%cd SingularGPT"
      ],
      "metadata": {
        "id": "JX6RWzAu-cCI"
      },
      "execution_count": null,
      "outputs": []
    },
    {
      "cell_type": "markdown",
      "metadata": {
        "id": "AgZi5GDl_CbM"
      },
      "source": [
        "# Install libreoffice"
      ]
    },
    {
      "cell_type": "code",
      "execution_count": null,
      "metadata": {
        "id": "UlWBP5qOuf7i"
      },
      "outputs": [],
      "source": [
        "%%bash \n",
        "\n",
        "sudo apt update\n",
        "sudo apt install tasksel\n",
        "sudo add-apt-repository ppa:libreoffice/ppa -y\n",
        "sudo apt install libreoffice"
      ]
    },
    {
      "cell_type": "code",
      "source": [
        "import multiprocessing\n",
        "import subprocess\n",
        "from time import sleep\n",
        "\n",
        "def task_3():\n",
        "  subprocess.run('sudo libreoffice', shell=True)\n",
        "  # subprocess.run('zenity --error --text=\"An error occurjfhgkjfnkjgnred\\!\" --title=\"Warning\\!\"', shell=True)\n",
        "\n",
        "\n",
        "p3 = multiprocessing.Process(target=task_3)\n",
        "\n",
        "# starting process 3\n",
        "p3.start()"
      ],
      "metadata": {
        "id": "PXUdIREw_4pU"
      },
      "execution_count": null,
      "outputs": []
    },
    {
      "cell_type": "markdown",
      "metadata": {
        "id": "B8GS-RZEhbNj"
      },
      "source": [
        "# Highlight pointer"
      ]
    },
    {
      "cell_type": "code",
      "execution_count": null,
      "metadata": {
        "id": "cMqv_Nf9WM6U"
      },
      "outputs": [],
      "source": [
        "!wget https://github.com/swillner/highlight-pointer/releases/download/v1.1.3/highlight-pointer\n",
        "!chmod +x highlight-pointer\n",
        "\n",
        "import multiprocessing\n",
        "import subprocess\n",
        "from time import sleep\n",
        "\n",
        "def task_3():\n",
        "  subprocess.run('./highlight-pointer', shell=True)\n",
        "  # subprocess.run('zenity --error --text=\"An error occurjfhgkjfnkjgnred\\!\" --title=\"Warning\\!\"', shell=True)\n",
        "\n",
        "def ht_():\n",
        "  p3 = multiprocessing.Process(target=task_3)\n",
        "  p3.start()"
      ]
    },
    {
      "cell_type": "markdown",
      "source": [
        "# Put your prompt"
      ],
      "metadata": {
        "id": "9dngLlgUA9gu"
      }
    },
    {
      "cell_type": "code",
      "source": [
        "%%writefile Prompts/prompt\n",
        "\n",
        "hello click on text Writer Document"
      ],
      "metadata": {
        "id": "SiUo52yFBABH"
      },
      "execution_count": null,
      "outputs": []
    },
    {
      "cell_type": "markdown",
      "source": [
        "# Run the inference script"
      ],
      "metadata": {
        "id": "plsUk9srAvUl"
      }
    },
    {
      "cell_type": "code",
      "source": [
        "!python main.py"
      ],
      "metadata": {
        "id": "zp1VRPP6A2-G"
      },
      "execution_count": null,
      "outputs": []
    },
    {
      "cell_type": "markdown",
      "source": [
        "# Run the test script"
      ],
      "metadata": {
        "id": "t1Hk4t_0Afb1"
      }
    },
    {
      "cell_type": "code",
      "source": [
        "!python example_generated_script.py"
      ],
      "metadata": {
        "id": "_CCqII5F_4lw"
      },
      "execution_count": null,
      "outputs": []
    },
    {
      "cell_type": "code",
      "source": [],
      "metadata": {
        "id": "_ZIQp-y1AhP_"
      },
      "execution_count": null,
      "outputs": []
    }
  ]
}